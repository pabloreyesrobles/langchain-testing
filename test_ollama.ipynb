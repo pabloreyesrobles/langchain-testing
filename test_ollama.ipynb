{
 "cells": [
  {
   "cell_type": "code",
   "execution_count": 1,
   "metadata": {},
   "outputs": [],
   "source": [
    "from langchain.callbacks.manager import CallbackManager\n",
    "from langchain.callbacks.streaming_stdout import StreamingStdOutCallbackHandler\n",
    "from langchain.llms import Ollama\n",
    "\n",
    "llm = Ollama(\n",
    "    model=\"llama2\", callback_manager=CallbackManager([StreamingStdOutCallbackHandler()])\n",
    ")"
   ]
  },
  {
   "cell_type": "code",
   "execution_count": 4,
   "metadata": {},
   "outputs": [
    {
     "name": "stdout",
     "output_type": "stream",
     "text": [
      "\n",
      "Yes, I am familiar with the term \"hikikomori.\" Hikikomori is a Japanese term that refers to a social withdrawal or reclusion, particularly among young people. It is characterized by a lack of interest in social activities, work, or school, and a tendency to isolate oneself from society.\n",
      "\n",
      "Hikikomori is a relatively new concept that was first identified in Japan in the 1990s. It is estimated that there are hundreds of thousands of hikikomoris in Japan, although the exact number is difficult to determine due to the stigma surrounding the condition and the lack of official statistics.\n",
      "\n",
      "The causes of hikikomori are complex and varied, but they often involve a combination of psychological, social, and cultural factors. Some common causes include:\n",
      "\n",
      "1. Social anxiety or fear of rejection: Many hikikomoris experience anxiety or fear of rejection in social situations, which can lead to avoidance of social interactions altogether.\n",
      "2. Trauma or stress: Hikikomoris may have experienced traumatic events, such as bullying, abuse, or loss of a loved one, which can lead to feelings of hopelessness and withdrawal from society.\n",
      "3. Mental health issues: Hikikomoris may experience mental health issues such as depression, anxiety, or obsessive-compulsive disorder, which can contribute to social withdrawal.\n",
      "4. Family dynamics: Dysfunctional family relationships or a lack of support from caregivers can contribute to hikikomori.\n",
      "5. Cultural factors: The pressure to conform to societal expectations and the stigma surrounding mental illness in Japan may discourage individuals from seeking help or disclosing their condition.\n",
      "\n",
      "The effects of hikikomori can be far-reaching, including:\n",
      "\n",
      "1. Isolation and loneliness: Hikikomoris often experience feelings of isolation and loneliness, which can lead to depression, anxiety, and other mental health issues.\n",
      "2. Limited access to education and employment: Hikikomoris may miss out on educational opportunities or struggle to find employment due to their social withdrawal.\n",
      "3. Financial difficulties: Hikikomoris may face financial challenges due to their limited ability to work or support themselves financially.\n",
      "4. Stigma and discrimination: The stigma surrounding hikikomori can lead to discrimination and marginalization of individuals who experience it.\n",
      "\n",
      "There are several approaches to treating hikikomori, including:\n",
      "\n",
      "1. Cognitive-behavioral therapy (CBT): CBT is a type of talk therapy that helps individuals identify and change negative thought patterns and behaviors that contribute to their social withdrawal.\n",
      "2. Family therapy: Family therapy can help individuals with hikikomori address interpersonal conflicts or dysfunctional family dynamics that may be contributing to their condition.\n",
      "3. Medication: In some cases, medication may be prescribed to manage symptoms of depression, anxiety, or other mental health issues that contribute to hikikomori.\n",
      "4. Support groups: Joining a support group can provide individuals with hikikomori an opportunity to connect with others who share their experiences and receive emotional support.\n",
      "5. Community-based interventions: Community-based interventions, such as peer support groups or social skills training, can help individuals with hikikomori build social connections and develop coping strategies.\n",
      "\n",
      "Overall, hikikomori is a complex and multifaceted condition that requires a comprehensive approach to treatment and support. By addressing the underlying causes of hikikomori and providing individuals with the tools and resources they need to manage their symptoms, it is possible to help individuals recover from this condition and reintegrate into society."
     ]
    },
    {
     "data": {
      "text/plain": [
       "'\\nYes, I am familiar with the term \"hikikomori.\" Hikikomori is a Japanese term that refers to a social withdrawal or reclusion, particularly among young people. It is characterized by a lack of interest in social activities, work, or school, and a tendency to isolate oneself from society.\\n\\nHikikomori is a relatively new concept that was first identified in Japan in the 1990s. It is estimated that there are hundreds of thousands of hikikomoris in Japan, although the exact number is difficult to determine due to the stigma surrounding the condition and the lack of official statistics.\\n\\nThe causes of hikikomori are complex and varied, but they often involve a combination of psychological, social, and cultural factors. Some common causes include:\\n\\n1. Social anxiety or fear of rejection: Many hikikomoris experience anxiety or fear of rejection in social situations, which can lead to avoidance of social interactions altogether.\\n2. Trauma or stress: Hikikomoris may have experienced traumatic events, such as bullying, abuse, or loss of a loved one, which can lead to feelings of hopelessness and withdrawal from society.\\n3. Mental health issues: Hikikomoris may experience mental health issues such as depression, anxiety, or obsessive-compulsive disorder, which can contribute to social withdrawal.\\n4. Family dynamics: Dysfunctional family relationships or a lack of support from caregivers can contribute to hikikomori.\\n5. Cultural factors: The pressure to conform to societal expectations and the stigma surrounding mental illness in Japan may discourage individuals from seeking help or disclosing their condition.\\n\\nThe effects of hikikomori can be far-reaching, including:\\n\\n1. Isolation and loneliness: Hikikomoris often experience feelings of isolation and loneliness, which can lead to depression, anxiety, and other mental health issues.\\n2. Limited access to education and employment: Hikikomoris may miss out on educational opportunities or struggle to find employment due to their social withdrawal.\\n3. Financial difficulties: Hikikomoris may face financial challenges due to their limited ability to work or support themselves financially.\\n4. Stigma and discrimination: The stigma surrounding hikikomori can lead to discrimination and marginalization of individuals who experience it.\\n\\nThere are several approaches to treating hikikomori, including:\\n\\n1. Cognitive-behavioral therapy (CBT): CBT is a type of talk therapy that helps individuals identify and change negative thought patterns and behaviors that contribute to their social withdrawal.\\n2. Family therapy: Family therapy can help individuals with hikikomori address interpersonal conflicts or dysfunctional family dynamics that may be contributing to their condition.\\n3. Medication: In some cases, medication may be prescribed to manage symptoms of depression, anxiety, or other mental health issues that contribute to hikikomori.\\n4. Support groups: Joining a support group can provide individuals with hikikomori an opportunity to connect with others who share their experiences and receive emotional support.\\n5. Community-based interventions: Community-based interventions, such as peer support groups or social skills training, can help individuals with hikikomori build social connections and develop coping strategies.\\n\\nOverall, hikikomori is a complex and multifaceted condition that requires a comprehensive approach to treatment and support. By addressing the underlying causes of hikikomori and providing individuals with the tools and resources they need to manage their symptoms, it is possible to help individuals recover from this condition and reintegrate into society.'"
      ]
     },
     "execution_count": 4,
     "metadata": {},
     "output_type": "execute_result"
    }
   ],
   "source": [
    "llm(\"do you know hikikomori?\")"
   ]
  }
 ],
 "metadata": {
  "kernelspec": {
   "display_name": "langchain",
   "language": "python",
   "name": "python3"
  },
  "language_info": {
   "codemirror_mode": {
    "name": "ipython",
    "version": 3
   },
   "file_extension": ".py",
   "mimetype": "text/x-python",
   "name": "python",
   "nbconvert_exporter": "python",
   "pygments_lexer": "ipython3",
   "version": "3.11.6"
  }
 },
 "nbformat": 4,
 "nbformat_minor": 2
}
