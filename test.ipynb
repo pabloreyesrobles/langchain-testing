{
 "cells": [
  {
   "cell_type": "code",
   "execution_count": 1,
   "metadata": {},
   "outputs": [
    {
     "name": "stdout",
     "output_type": "stream",
     "text": [
      "Opened database successfully\n"
     ]
    }
   ],
   "source": [
    "import json\n",
    "import openai\n",
    "import requests\n",
    "from tenacity import retry, wait_random_exponential, stop_after_attempt\n",
    "from termcolor import colored\n",
    "\n",
    "import constants\n",
    "import os\n",
    "import sqlite3\n",
    "\n",
    "from db import DBA\n",
    "\n",
    "# conn = sqlite3.connect(\"data/chinook.db\")\n",
    "\n",
    "print(\"Opened database successfully\")\n",
    "\n",
    "os.environ[\"OPENAI_API_KEY\"] = constants.APIKEY\n",
    "GPT_MODEL = \"gpt-3.5-turbo-0613\""
   ]
  },
  {
   "cell_type": "markdown",
   "metadata": {},
   "source": [
    "@retry(wait=wait_random_exponential(multiplier=1, max=40), stop=stop_after_attempt(3))\n",
    "def chat_completion_request(messages, functions=None, function_call=None, model=GPT_MODEL):\n",
    "    headers = {\n",
    "        \"Content-Type\": \"application/json\",\n",
    "        \"Authorization\": \"Bearer \" + os.environ[\"OPENAI_API_KEY\"],\n",
    "    }\n",
    "    json_data = {\"model\": model, \"messages\": messages}\n",
    "    if functions is not None:\n",
    "        json_data.update({\"functions\": functions})\n",
    "    if function_call is not None:\n",
    "        json_data.update({\"function_call\": function_call})\n",
    "    try:\n",
    "        response = requests.post(\n",
    "            \"https://api.openai.com/v1/chat/completions\",\n",
    "            headers=headers,\n",
    "            json=json_data,\n",
    "        )\n",
    "        return response\n",
    "    except Exception as e:\n",
    "        print(\"Unable to generate ChatCompletion response\")\n",
    "        print(f\"Exception: {e}\")\n",
    "        return e\n",
    "    \n",
    "def pretty_print_conversation(messages):\n",
    "    role_to_color = {\n",
    "        \"system\": \"red\",\n",
    "        \"user\": \"green\",\n",
    "        \"assistant\": \"blue\",\n",
    "        \"function\": \"magenta\",\n",
    "    }\n",
    "    \n",
    "    for message in messages:\n",
    "        if message[\"role\"] == \"system\":\n",
    "            print(colored(f\"system: {message['content']}\\n\", role_to_color[message[\"role\"]]))\n",
    "        elif message[\"role\"] == \"user\":\n",
    "            print(colored(f\"user: {message['content']}\\n\", role_to_color[message[\"role\"]]))\n",
    "        elif message[\"role\"] == \"assistant\" and message.get(\"function_call\"):\n",
    "            print(colored(f\"assistant: {message['function_call']}\\n\", role_to_color[message[\"role\"]]))\n",
    "        elif message[\"role\"] == \"assistant\" and not message.get(\"function_call\"):\n",
    "            print(colored(f\"assistant: {message['content']}\\n\", role_to_color[message[\"role\"]]))\n",
    "        elif message[\"role\"] == \"function\":\n",
    "            print(colored(f\"function ({message['name']}): {message['content']}\\n\", role_to_color[message[\"role\"]]))"
   ]
  },
  {
   "cell_type": "code",
   "execution_count": 2,
   "metadata": {},
   "outputs": [],
   "source": [
    "def get_table_names(conn):\n",
    "    \"\"\"Return a list of table names.\"\"\"\n",
    "    table_names = []\n",
    "    ret, tables = conn.execute(query=\"SELECT table_name FROM information_schema.tables WHERE table_schema = 'public';\")\n",
    "\n",
    "    if not ret:\n",
    "        raise Exception(\"Unable to get table names.\")\n",
    "\n",
    "    for table in tables:\n",
    "        table_names.append(table['table_name'])\n",
    "    return table_names\n",
    "\n",
    "\n",
    "def get_column_names(conn, table_name):\n",
    "    \"\"\"Return a list of column names.\"\"\"\n",
    "    column_names = []\n",
    "    ret, columns = conn.execute(query=f\"SELECT column_name FROM information_schema.columns WHERE table_name = '{table_name}';\")\n",
    "\n",
    "    if not ret:\n",
    "        return []\n",
    "        # raise Exception(f\"Unable to get column names for table {table_name}.\")\n",
    "\n",
    "    for col in columns:\n",
    "        column_names.append(col['column_name'])\n",
    "    return column_names\n",
    "\n",
    "def get_table_comments(conn, table_name):\n",
    "    \"\"\"Retrieve table comments\"\"\"\n",
    "    ret, comments = conn.execute(query=f\"SELECT obj_description('{table_name}'::regclass);\")\n",
    "\n",
    "    if not ret:\n",
    "        return \"\"\n",
    "        # raise Exception(f\"Unable to get column names for table {table_name}.\")\n",
    "\n",
    "    return comments[0]['obj_description']\n",
    "\n",
    "def get_column_comments(conn, table_name):\n",
    "    \"\"\"Retrieve column comments\"\"\"\n",
    "    ret, comments = conn.execute(query=f\"\"\"\n",
    "                                 SELECT column_name, col_description('{table_name}'::regclass, ordinal_position) as column_comment\n",
    "                                 FROM information_schema.columns\n",
    "                                 WHERE table_name = '{table_name}'\n",
    "                                 \"\"\")\n",
    "\n",
    "    if not ret:\n",
    "        return \"\"\n",
    "        # raise Exception(f\"Unable to get column names for table {table_name}.\")\n",
    "\n",
    "    return comments\n",
    "\n",
    "def get_database_info(_):\n",
    "    with DBA() as conn:\n",
    "        \"\"\"Return a list of dicts containing the table name and columns for each table in the database.\"\"\"\n",
    "        table_dicts = []\n",
    "        for table_name in get_table_names(conn):\n",
    "            columns_names = get_column_comments(conn, table_name)\n",
    "            table_description = get_table_comments(conn, table_name)\n",
    "\n",
    "            table_dicts.append({\"table_name\": table_name, \"table_description\": table_description, \"columns\": columns_names})\n",
    "        return table_dicts\n",
    "    \n",
    "def database_run(query):\n",
    "    with DBA() as conn:\n",
    "        ret, results = conn.execute(query=query)\n",
    "        if not ret:\n",
    "            return \"Error: \" + results\n",
    "        return results"
   ]
  },
  {
   "cell_type": "code",
   "execution_count": 3,
   "metadata": {},
   "outputs": [
    {
     "name": "stdout",
     "output_type": "stream",
     "text": [
      "Tabla que almacena información de transacciones de llamadas\n",
      "[{'column_name': 'cdr_msisdn', 'column_comment': 'Número de teléfono del usuario'}, {'column_name': 'cdr_imsi', 'column_comment': 'Número de identificación internacional de abonado móvil'}, {'column_name': 'cdr_imei', 'column_comment': 'Número de identificación internacional de equipo móvil'}, {'column_name': 'cdr_start_time', 'column_comment': 'Fecha y hora de inicio de la transacción'}, {'column_name': 'cdr_end_time', 'column_comment': 'Fecha y hora de finalización de la transacción'}, {'column_name': 'cdr_interface', 'column_comment': 'Interfaz utilizada para la transacción'}, {'column_name': 'cdr_transaction_type', 'column_comment': 'Tipo de transacción realizada'}, {'column_name': 'cdr_transaction_status', 'column_comment': 'Estado de la transacción'}]\n"
     ]
    }
   ],
   "source": [
    "with DBA() as conn:\n",
    "    print(get_table_comments(conn, 'cdr'))\n",
    "    print(get_column_comments(conn, 'cdr'))"
   ]
  },
  {
   "cell_type": "code",
   "execution_count": 10,
   "metadata": {},
   "outputs": [
    {
     "data": {
      "text/plain": [
       "'SELECT cdr_start_time, cdr_end_time, cdr_end_time - cdr_start_time AS tiempo_transaccion\\nFROM cdr'"
      ]
     },
     "execution_count": 10,
     "metadata": {},
     "output_type": "execute_result"
    }
   ],
   "source": [
    "from langchain.prompts import ChatPromptTemplate\n",
    "from langchain.chat_models import ChatOpenAI\n",
    "from langchain.schema.output_parser import StrOutputParser\n",
    "from langchain.schema.runnable import RunnablePassthrough\n",
    "\n",
    "template = \"\"\"Basado en el siguiente esquema de base de datos PostrgeSQL, escriba una consulta PostrgeSQL para responder a la siguiente pregunta:\n",
    "{schema}\n",
    "Pregunta: {question}\n",
    "Consulta SQL:\"\"\"\n",
    "prompt_query = ChatPromptTemplate.from_template(template)\n",
    "model = ChatOpenAI()\n",
    "output_parser = StrOutputParser()\n",
    "\n",
    "runnable = RunnablePassthrough().assign(schema=get_database_info)\n",
    "sql_query = (runnable | prompt_query | model | output_parser)\n",
    "\n",
    "# question = \"\"\"\n",
    "#     Genera atributo descriptivo tipo comentario para la tabla cdr y también sus columnas. Corresponde a un problema de saturación de la red, las columnas son: \n",
    "#     MSISDN (numero teléfono), IMSI, IMEI, comienzo transacción, término transacción, interfaz, tipo de transacción, estado transacción. La base de datos es PostgreSQL.\n",
    "#     \"\"\"\n",
    "\n",
    "question = \"\"\"\n",
    "    Calcula la diferencia de tiempo entre el inicio y término de cada transacción, para el problema de transacciones de llamadas\n",
    "    \"\"\"\n",
    "sql_query.invoke({\"question\": question})"
   ]
  },
  {
   "cell_type": "code",
   "execution_count": 12,
   "metadata": {},
   "outputs": [
    {
     "data": {
      "text/plain": [
       "'La consulta SQL que has escrito presenta un error debido a que estás intentando restar dos valores de tipo character varying (cdr_end_time y cdr_start_time), lo cual no está permitido en PostgreSQL.\\n\\nPara calcular la diferencia de tiempo entre el inicio y término de cada transacción, debes convertir los valores de cdr_end_time y cdr_start_time a un tipo de dato compatible para realizar la resta. Suponiendo que estos campos son de tipo timestamp, puedes utilizar la función de PostgreSQL llamada extract para obtener la diferencia en segundos entre ambos tiempos. Aquí te dejo la consulta corregida:\\n\\nSELECT cdr_msisdn, cdr_start_time, cdr_end_time, EXTRACT(EPOCH FROM cdr_end_time - cdr_start_time) AS transaction_duration\\nFROM cdr'"
      ]
     },
     "execution_count": 12,
     "metadata": {},
     "output_type": "execute_result"
    }
   ],
   "source": [
    "template = \"\"\"Basado en el siguiente esquema de base de datos PostrgeSQL, escriba una consulta PostrgeSQL para responder a la siguiente pregunta:\n",
    "{schema}\n",
    "\n",
    "Pregunta: {question}\n",
    "Consulta SQL: {query}\n",
    "Respuesta: {response}\"\"\"\n",
    "prompt_response = ChatPromptTemplate.from_template(template)\n",
    "\n",
    "full_chain = (\n",
    "    RunnablePassthrough.assign(query=sql_query)\n",
    "    | RunnablePassthrough.assign(\n",
    "        schema=get_database_info,\n",
    "        response=lambda x: database_run(x[\"query\"]),\n",
    "    )\n",
    "    | prompt_response\n",
    "    | model\n",
    "    | output_parser\n",
    ")\n",
    "\n",
    "question = \"\"\"\n",
    "    Calcula la diferencia de tiempo entre el inicio y término de cada transacción, para el problema de transacciones de llamadas\n",
    "    \"\"\"\n",
    "full_chain.invoke({\"question\": question})"
   ]
  },
  {
   "cell_type": "code",
   "execution_count": 19,
   "metadata": {},
   "outputs": [],
   "source": [
    "full_chain"
   ]
  }
 ],
 "metadata": {
  "kernelspec": {
   "display_name": "langchain",
   "language": "python",
   "name": "python3"
  },
  "language_info": {
   "codemirror_mode": {
    "name": "ipython",
    "version": 3
   },
   "file_extension": ".py",
   "mimetype": "text/x-python",
   "name": "python",
   "nbconvert_exporter": "python",
   "pygments_lexer": "ipython3",
   "version": "3.11.6"
  }
 },
 "nbformat": 4,
 "nbformat_minor": 2
}
