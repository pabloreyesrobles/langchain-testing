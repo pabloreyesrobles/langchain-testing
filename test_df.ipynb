{
 "cells": [
  {
   "cell_type": "code",
   "execution_count": 1,
   "metadata": {},
   "outputs": [],
   "source": [
    "import openai\n",
    "\n",
    "from langchain.llms import OpenAI\n",
    "from langchain.chat_models import ChatOpenAI\n",
    "from langchain.agents.agent_types import AgentType\n",
    "from langchain.agents.agent_toolkits import create_pandas_dataframe_agent\n",
    "from langchain.agents import create_csv_agent\n",
    "import constants\n",
    "import os\n",
    "import pandas as pd\n",
    "\n",
    "os.environ[\"OPENAI_API_KEY\"] = constants.APIKEY"
   ]
  },
  {
   "cell_type": "code",
   "execution_count": 3,
   "metadata": {},
   "outputs": [
    {
     "name": "stderr",
     "output_type": "stream",
     "text": [
      "/tmp/ipykernel_7135/293855723.py:1: DtypeWarning: Columns (18) have mixed types. Specify dtype option on import or set low_memory=False.\n",
      "  df = pd.read_csv('data/data_entel.csv')\n"
     ]
    },
    {
     "data": {
      "text/html": [
       "<div>\n",
       "<style scoped>\n",
       "    .dataframe tbody tr th:only-of-type {\n",
       "        vertical-align: middle;\n",
       "    }\n",
       "\n",
       "    .dataframe tbody tr th {\n",
       "        vertical-align: top;\n",
       "    }\n",
       "\n",
       "    .dataframe thead th {\n",
       "        text-align: right;\n",
       "    }\n",
       "</style>\n",
       "<table border=\"1\" class=\"dataframe\">\n",
       "  <thead>\n",
       "    <tr style=\"text-align: right;\">\n",
       "      <th></th>\n",
       "      <th>SN</th>\n",
       "      <th>Start Time</th>\n",
       "      <th>End Time</th>\n",
       "      <th>Interface</th>\n",
       "      <th>Transaction Type</th>\n",
       "      <th>Transaction Status</th>\n",
       "      <th>IMSI</th>\n",
       "      <th>MSISDN</th>\n",
       "      <th>IMEI</th>\n",
       "      <th>Home MCC</th>\n",
       "      <th>...</th>\n",
       "      <th>MCC</th>\n",
       "      <th>MNC</th>\n",
       "      <th>PCRF</th>\n",
       "      <th>P-CSCF</th>\n",
       "      <th>Media Type</th>\n",
       "      <th>Failure Cause Type</th>\n",
       "      <th>Failure Cause</th>\n",
       "      <th>Abort Cause</th>\n",
       "      <th>Origin-Realm</th>\n",
       "      <th>Destination-Realm</th>\n",
       "    </tr>\n",
       "  </thead>\n",
       "  <tbody>\n",
       "    <tr>\n",
       "      <th>21971</th>\n",
       "      <td>28088</td>\n",
       "      <td>2023-09-05 07:54:15:431(DST)</td>\n",
       "      <td>2023-09-05 07:54:15:437(DST)</td>\n",
       "      <td>Gx</td>\n",
       "      <td>Re-Auth Request</td>\n",
       "      <td>Success</td>\n",
       "      <td>7.300110e+14</td>\n",
       "      <td>923765511.0</td>\n",
       "      <td>9.900100e+14</td>\n",
       "      <td>730.0</td>\n",
       "      <td>...</td>\n",
       "      <td>730.0</td>\n",
       "      <td>1.0</td>\n",
       "      <td>NaN</td>\n",
       "      <td>NaN</td>\n",
       "      <td>NaN</td>\n",
       "      <td>Diameter Result-Code</td>\n",
       "      <td>Diameter:Re-Auth Request(2001 DIAMETER_SUCCESS)</td>\n",
       "      <td>NaN</td>\n",
       "      <td>NaN</td>\n",
       "      <td>NaN</td>\n",
       "    </tr>\n",
       "    <tr>\n",
       "      <th>21972</th>\n",
       "      <td>90720</td>\n",
       "      <td>2023-09-05 07:28:32:197(DST)</td>\n",
       "      <td>2023-09-05 07:28:32:216(DST)</td>\n",
       "      <td>Gx</td>\n",
       "      <td>Credit Control Terminate</td>\n",
       "      <td>Success</td>\n",
       "      <td>7.300110e+14</td>\n",
       "      <td>932015739.0</td>\n",
       "      <td>9.900070e+14</td>\n",
       "      <td>730.0</td>\n",
       "      <td>...</td>\n",
       "      <td>730.0</td>\n",
       "      <td>1.0</td>\n",
       "      <td>PCRF_CDLV_2</td>\n",
       "      <td>NaN</td>\n",
       "      <td>NaN</td>\n",
       "      <td>Diameter Result-Code</td>\n",
       "      <td>Diameter:Credit Control Terminate(2001 DIAMETE...</td>\n",
       "      <td>NaN</td>\n",
       "      <td>NaN</td>\n",
       "      <td>NaN</td>\n",
       "    </tr>\n",
       "    <tr>\n",
       "      <th>21973</th>\n",
       "      <td>90721</td>\n",
       "      <td>2023-09-05 07:28:32:185(DST)</td>\n",
       "      <td>2023-09-05 07:28:32:236(DST)</td>\n",
       "      <td>Gx</td>\n",
       "      <td>Credit Control Terminate</td>\n",
       "      <td>Success</td>\n",
       "      <td>7.300110e+14</td>\n",
       "      <td>932015739.0</td>\n",
       "      <td>9.900070e+14</td>\n",
       "      <td>730.0</td>\n",
       "      <td>...</td>\n",
       "      <td>730.0</td>\n",
       "      <td>1.0</td>\n",
       "      <td>NaN</td>\n",
       "      <td>NaN</td>\n",
       "      <td>NaN</td>\n",
       "      <td>Diameter Result-Code</td>\n",
       "      <td>Diameter:Credit Control Terminate(2001 DIAMETE...</td>\n",
       "      <td>NaN</td>\n",
       "      <td>NaN</td>\n",
       "      <td>NaN</td>\n",
       "    </tr>\n",
       "    <tr>\n",
       "      <th>21974</th>\n",
       "      <td>90722</td>\n",
       "      <td>2023-09-05 07:28:37:153(DST)</td>\n",
       "      <td>2023-09-05 07:28:37:279(DST)</td>\n",
       "      <td>Gx</td>\n",
       "      <td>Credit Control Initial</td>\n",
       "      <td>Success</td>\n",
       "      <td>7.300110e+14</td>\n",
       "      <td>932015739.0</td>\n",
       "      <td>9.900070e+14</td>\n",
       "      <td>730.0</td>\n",
       "      <td>...</td>\n",
       "      <td>730.0</td>\n",
       "      <td>1.0</td>\n",
       "      <td>NaN</td>\n",
       "      <td>NaN</td>\n",
       "      <td>NaN</td>\n",
       "      <td>Diameter Result-Code</td>\n",
       "      <td>Diameter:Credit Control Initial(2001 DIAMETER_...</td>\n",
       "      <td>NaN</td>\n",
       "      <td>NaN</td>\n",
       "      <td>NaN</td>\n",
       "    </tr>\n",
       "    <tr>\n",
       "      <th>21975</th>\n",
       "      <td>90723</td>\n",
       "      <td>2023-09-05 07:29:01:720(DST)</td>\n",
       "      <td>2023-09-05 07:29:01:782(DST)</td>\n",
       "      <td>Gx</td>\n",
       "      <td>Credit Control Terminate</td>\n",
       "      <td>Success</td>\n",
       "      <td>7.300110e+14</td>\n",
       "      <td>932015739.0</td>\n",
       "      <td>9.900070e+14</td>\n",
       "      <td>730.0</td>\n",
       "      <td>...</td>\n",
       "      <td>730.0</td>\n",
       "      <td>1.0</td>\n",
       "      <td>NaN</td>\n",
       "      <td>NaN</td>\n",
       "      <td>NaN</td>\n",
       "      <td>Diameter Result-Code</td>\n",
       "      <td>Diameter:Credit Control Terminate(2001 DIAMETE...</td>\n",
       "      <td>NaN</td>\n",
       "      <td>NaN</td>\n",
       "      <td>NaN</td>\n",
       "    </tr>\n",
       "  </tbody>\n",
       "</table>\n",
       "<p>5 rows × 21 columns</p>\n",
       "</div>"
      ],
      "text/plain": [
       "          SN                    Start Time                      End Time  \\\n",
       "21971  28088  2023-09-05 07:54:15:431(DST)  2023-09-05 07:54:15:437(DST)   \n",
       "21972  90720  2023-09-05 07:28:32:197(DST)  2023-09-05 07:28:32:216(DST)   \n",
       "21973  90721  2023-09-05 07:28:32:185(DST)  2023-09-05 07:28:32:236(DST)   \n",
       "21974  90722  2023-09-05 07:28:37:153(DST)  2023-09-05 07:28:37:279(DST)   \n",
       "21975  90723  2023-09-05 07:29:01:720(DST)  2023-09-05 07:29:01:782(DST)   \n",
       "\n",
       "      Interface          Transaction Type Transaction Status          IMSI  \\\n",
       "21971        Gx           Re-Auth Request            Success  7.300110e+14   \n",
       "21972        Gx  Credit Control Terminate            Success  7.300110e+14   \n",
       "21973        Gx  Credit Control Terminate            Success  7.300110e+14   \n",
       "21974        Gx    Credit Control Initial            Success  7.300110e+14   \n",
       "21975        Gx  Credit Control Terminate            Success  7.300110e+14   \n",
       "\n",
       "            MSISDN          IMEI  Home MCC  ...    MCC  MNC         PCRF  \\\n",
       "21971  923765511.0  9.900100e+14     730.0  ...  730.0  1.0          NaN   \n",
       "21972  932015739.0  9.900070e+14     730.0  ...  730.0  1.0  PCRF_CDLV_2   \n",
       "21973  932015739.0  9.900070e+14     730.0  ...  730.0  1.0          NaN   \n",
       "21974  932015739.0  9.900070e+14     730.0  ...  730.0  1.0          NaN   \n",
       "21975  932015739.0  9.900070e+14     730.0  ...  730.0  1.0          NaN   \n",
       "\n",
       "      P-CSCF Media Type    Failure Cause Type  \\\n",
       "21971    NaN        NaN  Diameter Result-Code   \n",
       "21972    NaN        NaN  Diameter Result-Code   \n",
       "21973    NaN        NaN  Diameter Result-Code   \n",
       "21974    NaN        NaN  Diameter Result-Code   \n",
       "21975    NaN        NaN  Diameter Result-Code   \n",
       "\n",
       "                                           Failure Cause Abort Cause  \\\n",
       "21971    Diameter:Re-Auth Request(2001 DIAMETER_SUCCESS)         NaN   \n",
       "21972  Diameter:Credit Control Terminate(2001 DIAMETE...         NaN   \n",
       "21973  Diameter:Credit Control Terminate(2001 DIAMETE...         NaN   \n",
       "21974  Diameter:Credit Control Initial(2001 DIAMETER_...         NaN   \n",
       "21975  Diameter:Credit Control Terminate(2001 DIAMETE...         NaN   \n",
       "\n",
       "      Origin-Realm  Destination-Realm  \n",
       "21971          NaN                NaN  \n",
       "21972          NaN                NaN  \n",
       "21973          NaN                NaN  \n",
       "21974          NaN                NaN  \n",
       "21975          NaN                NaN  \n",
       "\n",
       "[5 rows x 21 columns]"
      ]
     },
     "execution_count": 3,
     "metadata": {},
     "output_type": "execute_result"
    }
   ],
   "source": [
    "df = pd.read_csv('data/data_entel.csv')\n",
    "df = df.dropna(subset=['IMEI'])\n",
    "df.head()"
   ]
  },
  {
   "cell_type": "code",
   "execution_count": null,
   "metadata": {},
   "outputs": [],
   "source": []
  },
  {
   "cell_type": "code",
   "execution_count": 4,
   "metadata": {},
   "outputs": [
    {
     "name": "stderr",
     "output_type": "stream",
     "text": [
      "/home/preyesr/mambaforge/envs/langchain/lib/python3.11/site-packages/langchain/agents/agent_toolkits/pandas/base.py:289: LangChainPendingDeprecationWarning: On 2023-10-27 this module will be be deprecated from langchain, and will be available from the langchain-experimental package.This code is already available in langchain-experimental.See https://github.com/langchain-ai/langchain/discussions/11680.\n",
      "  warn_deprecated(\n"
     ]
    }
   ],
   "source": [
    "agent = create_pandas_dataframe_agent(\n",
    "    ChatOpenAI(temperature=0, model=\"gpt-3.5-turbo\"),\n",
    "    df,\n",
    "    verbose=True,\n",
    "    agent_type=AgentType.OPENAI_FUNCTIONS,\n",
    ")"
   ]
  },
  {
   "cell_type": "code",
   "execution_count": 11,
   "metadata": {},
   "outputs": [
    {
     "name": "stdout",
     "output_type": "stream",
     "text": [
      "\n",
      "\n",
      "\u001b[1m> Entering new AgentExecutor chain...\u001b[0m\n",
      "\u001b[32;1m\u001b[1;3m\n",
      "Invoking: `python_repl_ast` with `{'query': \"df['IMEI'].value_counts().idxmax()\"}`\n",
      "\n",
      "\n",
      "\u001b[0m\u001b[36;1m\u001b[1;3m867035054042583.0\u001b[0m"
     ]
    },
    {
     "name": "stderr",
     "output_type": "stream",
     "text": [
      "/home/preyesr/mambaforge/envs/langchain/lib/python3.11/site-packages/langchain/tools/python/tool.py:140: LangChainPendingDeprecationWarning: On 2023-10-27 this module will be be deprecated from langchain, and will be available from the langchain-experimental package.This code is already available in langchain-experimental.See https://github.com/langchain-ai/langchain/discussions/11680.\n",
      "  warn_deprecated(\n"
     ]
    },
    {
     "name": "stdout",
     "output_type": "stream",
     "text": [
      "\u001b[32;1m\u001b[1;3mEl IMEI más repetido es 867035054042583.0.\u001b[0m\n",
      "\n",
      "\u001b[1m> Finished chain.\u001b[0m\n"
     ]
    }
   ],
   "source": [
    "response = agent.invoke({\"input\": \"¿Cuál es el IMEI más repetido?\"}, {})"
   ]
  },
  {
   "cell_type": "code",
   "execution_count": 12,
   "metadata": {},
   "outputs": [
    {
     "data": {
      "text/plain": [
       "'El IMEI más repetido es 867035054042583.0.'"
      ]
     },
     "execution_count": 12,
     "metadata": {},
     "output_type": "execute_result"
    }
   ],
   "source": [
    "response[\"output\"]"
   ]
  }
 ],
 "metadata": {
  "kernelspec": {
   "display_name": "langchain",
   "language": "python",
   "name": "python3"
  },
  "language_info": {
   "codemirror_mode": {
    "name": "ipython",
    "version": 3
   },
   "file_extension": ".py",
   "mimetype": "text/x-python",
   "name": "python",
   "nbconvert_exporter": "python",
   "pygments_lexer": "ipython3",
   "version": "3.11.6"
  }
 },
 "nbformat": 4,
 "nbformat_minor": 2
}
